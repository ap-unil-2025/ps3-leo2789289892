{
 "cells": [
  {
   "cell_type": "code",
   "execution_count": 1,
   "id": "urban-colleague",
   "metadata": {},
   "outputs": [],
   "source": [
    "import pandas as pd\n",
    "import numpy as np\n",
    "from sklearn import linear_model\n",
    "from matplotlib import pyplot as plt"
   ]
  },
  {
   "cell_type": "code",
   "execution_count": 2,
   "id": "applied-pregnancy",
   "metadata": {},
   "outputs": [
    {
     "name": "stdout",
     "output_type": "stream",
     "text": [
      "The coefficients are [0.00755095 0.00780526]\n",
      "Which means that if the weigh increase by 1, the models predicts that the CO2 increases by  0.0075509472703006895\n"
     ]
    }
   ],
   "source": [
    "##################\n",
    "# exercise 1\n",
    "##################\n",
    "### a)\n",
    "df = pd.read_csv('data/cars.csv')\n",
    "\n",
    "X = df[['Weight','Volume']]\n",
    "y = df['CO2']\n",
    "\n",
    "regr = linear_model.LinearRegression()\n",
    "regr.fit(X, y)\n",
    "\n",
    "X_pred=pd.DataFrame(data={'Weight':[2300],'Volume':[1300]})\n",
    "pred = regr.predict(X_pred)\n",
    "\n",
    "### b)\n",
    "print('The coefficients are', regr.coef_)\n",
    "print('Which means that if the weigh increase by 1, the models predicts that the CO2 increases by ', regr.coef_[0])\n",
    "\n",
    "### c)\n",
    "X_pred=pd.DataFrame(data={'Weight':[2300+1000],'Volume':[1300]})\n",
    "pred_2 = regr.predict(X_pred)\n"
   ]
  },
  {
   "cell_type": "code",
   "execution_count": 3,
   "id": "swedish-topic",
   "metadata": {},
   "outputs": [
    {
     "data": {
      "image/png": "[encoded data removed]",
      "text/plain": [
       "<Figure size 432x288 with 1 Axes>"
      ]
     },
     "metadata": {
      "needs_background": "light"
     },
     "output_type": "display_data"
    },
    {
     "data": {
      "image/png": "[encoded data removed]",
      "text/plain": [
       "<Figure size 432x288 with 1 Axes>"
      ]
     },
     "metadata": {
      "needs_background": "light"
     },
     "output_type": "display_data"
    }
   ],
   "source": [
    "##################\n",
    "# Exercise 2\n",
    "##################\n",
    "\n",
    "def func(x):\n",
    "    f=np.array([\n",
    "        5*x[0]**2 - x[1]**2,\n",
    "        x[1]-0.25*(np.sin(x[0])+np.cos(x[1]))\n",
    "    ])\n",
    "    return f\n",
    "\n",
    "def d_func(x):\n",
    "    f=np.array([\n",
    "        [10*x[0], 2*x[1]],\n",
    "        [-0.25 * np.cos(x[0]), 1 + 0.25*np.sin(x[1])]\n",
    "    ])\n",
    "    return f\n",
    "\n",
    "\n",
    "x = np.array([0.1, 0.1])\n",
    "x_history=[x]\n",
    "error_history = [np.mean(np.abs(func(x)))]\n",
    "for i in range(10):\n",
    "    x = x- func(x)@np.linalg.inv(d_func(x))\n",
    "\n",
    "    x_history.append(x)\n",
    "    error_history.append(np.mean(np.abs(func(x))))\n",
    "\n",
    "plt.plot(error_history)\n",
    "plt.ylabel('Average absolute error')\n",
    "plt.xlabel('Iteration')\n",
    "plt.show()\n",
    "\n",
    "plt.plot(np.array(x_history)[:,0],label=r'$x_0$')\n",
    "plt.plot(np.array(x_history)[:,1],label=r'$x_1$')\n",
    "plt.ylabel('Coeff values')\n",
    "plt.xlabel('Iteration')\n",
    "plt.legend()\n",
    "plt.show()"
   ]
  },
  {
   "cell_type": "code",
   "execution_count": 4,
   "id": "numerous-puzzle",
   "metadata": {},
   "outputs": [
    {
     "name": "stdout",
     "output_type": "stream",
     "text": [
      "Newtown's estimate 5.830951894845301, numpy value 5.830951894845301\n"
     ]
    }
   ],
   "source": [
    "##################\n",
    "# Exercise 3\n",
    "##################\n",
    "\n",
    "def func(x):\n",
    "    return x**2 - 34\n",
    "def d_func(x):\n",
    "    return 2*x\n",
    "\n",
    "x = 6.0\n",
    "for i in range(10):\n",
    "    x = x-func(x)/d_func(x)\n",
    "\n",
    "print(f\"Newtown's estimate {x}, numpy value {np.sqrt(34)}\")"
   ]
  },
  {
   "cell_type": "code",
   "execution_count": null,
   "id": "ethical-trailer",
   "metadata": {},
   "outputs": [],
   "source": []
  }
 ],
 "metadata": {
  "kernelspec": {
   "display_name": "Python 3",
   "language": "python",
   "name": "python3"
  },
  "language_info": {
   "codemirror_mode": {
    "name": "ipython",
    "version": 3
   },
   "file_extension": ".py",
   "mimetype": "text/x-python",
   "name": "python",
   "nbconvert_exporter": "python",
   "pygments_lexer": "ipython3",
   "version": "3.8.5"
  }
 },
 "nbformat": 4,
 "nbformat_minor": 5
}
