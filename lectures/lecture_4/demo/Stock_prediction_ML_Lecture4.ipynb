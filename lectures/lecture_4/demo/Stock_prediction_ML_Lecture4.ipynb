{
 "cells": [
  {
   "cell_type": "markdown",
   "metadata": {},
   "source": [
    "## Stock Market Prediction\n",
    "\n",
    "In this example, we’ll be exploring how we can use Linear Regression to predict stock prices thirty days into the future. \n",
    "\n",
    "You probably won’t get rich with this algorithm, but I still think it is super cool to watch your computer predict the price of your favorite stocks.\n",
    "\n",
    "### Getting Started\n",
    "Create a new forcaste_stock.py file. \n",
    "\n",
    "In our project, we’ll need to import a few dependencies. If you don’t have them installed, you will have to run pip install [dependency] on the command line.\n",
    "\n",
    "* Note:  students should try a personal (free) registration. Then (if) suggest students to provide their own credentials, they won't trigger the API limit."
   ]
  },
  {
   "cell_type": "code",
   "execution_count": 1,
   "metadata": {
    "jupyter": {
     "outputs_hidden": false
    }
   },
   "outputs": [],
   "source": [
    "import quandl\n",
    "import pandas as pd\n",
    "import numpy as np\n",
    "import datetime\n",
    "\n",
    "from sklearn.linear_model import LinearRegression\n",
    "from sklearn.model_selection import train_test_split\n",
    "from sklearn import preprocessing, svm"
   ]
  },
  {
   "cell_type": "markdown",
   "metadata": {},
   "source": [
    "### Stock Data & Dataframe\n",
    "To get our stock data, we can set our dataframe to quandl.get(\"WIKI/[NAME OF STOCK]\"). In this notebook, I will use Facebook, but you can choose any stock you wish."
   ]
  },
  {
   "cell_type": "code",
   "execution_count": 2,
   "metadata": {},
   "outputs": [],
   "source": [
    "df = quandl.get(\"WIKI/FB\")"
   ]
  },
  {
   "cell_type": "markdown",
   "metadata": {},
   "source": [
    "If we print(df.tail()) and run our python program, we see that we get a lot of data for each stock:"
   ]
  },
  {
   "cell_type": "code",
   "execution_count": 3,
   "metadata": {
    "jupyter": {
     "outputs_hidden": false
    }
   },
   "outputs": [
    {
     "name": "stdout",
     "output_type": "stream",
     "text": [
      "              Open    High     Low   Close       Volume  Ex-Dividend  \\\n",
      "Date                                                                   \n",
      "2018-03-21  164.80  173.40  163.30  169.39  105350867.0          0.0   \n",
      "2018-03-22  166.13  170.27  163.72  164.89   73389988.0          0.0   \n",
      "2018-03-23  165.44  167.10  159.02  159.39   52306891.0          0.0   \n",
      "2018-03-26  160.82  161.10  149.02  160.06  125438294.0          0.0   \n",
      "2018-03-27  156.31  162.85  150.75  152.19   76787884.0          0.0   \n",
      "\n",
      "            Split Ratio  Adj. Open  Adj. High  Adj. Low  Adj. Close  \\\n",
      "Date                                                                  \n",
      "2018-03-21          1.0     164.80     173.40    163.30      169.39   \n",
      "2018-03-22          1.0     166.13     170.27    163.72      164.89   \n",
      "2018-03-23          1.0     165.44     167.10    159.02      159.39   \n",
      "2018-03-26          1.0     160.82     161.10    149.02      160.06   \n",
      "2018-03-27          1.0     156.31     162.85    150.75      152.19   \n",
      "\n",
      "            Adj. Volume  \n",
      "Date                     \n",
      "2018-03-21  105350867.0  \n",
      "2018-03-22   73389988.0  \n",
      "2018-03-23   52306891.0  \n",
      "2018-03-26  125438294.0  \n",
      "2018-03-27   76787884.0  \n"
     ]
    }
   ],
   "source": [
    "print(df.tail())"
   ]
  },
  {
   "cell_type": "markdown",
   "metadata": {},
   "source": [
    "However, in our case, we only need the Adj. Close column for our predictions."
   ]
  },
  {
   "cell_type": "code",
   "execution_count": 4,
   "metadata": {
    "jupyter": {
     "outputs_hidden": false
    }
   },
   "outputs": [],
   "source": [
    "df = df[['Adj. Close']]"
   ]
  },
  {
   "cell_type": "markdown",
   "metadata": {},
   "source": [
    "Now, let’s set up our forecasting. We want to predict 30 days into the future, so we’ll set a variable  forecast_out equal to that. Then, we need to create a new column in our dataframe which serves as our label, which, in machine learning, is known as our output. To fill our output data with data to be trained upon, we will set our prediction column equal to our Adj. Close column, but shifted 30 units up."
   ]
  },
  {
   "cell_type": "code",
   "execution_count": 5,
   "metadata": {
    "jupyter": {
     "outputs_hidden": false
    }
   },
   "outputs": [],
   "source": [
    "forecast_out = int(30) # predicting 30 days into future\n",
    "df['Prediction'] = df[['Adj. Close']].shift(-forecast_out) #  label column with data shifted 30 units up"
   ]
  },
  {
   "cell_type": "markdown",
   "metadata": {},
   "source": [
    "You can see the new dataframe by printing it: print(df.tail())"
   ]
  },
  {
   "cell_type": "code",
   "execution_count": 6,
   "metadata": {
    "jupyter": {
     "outputs_hidden": false
    }
   },
   "outputs": [
    {
     "name": "stdout",
     "output_type": "stream",
     "text": [
      "            Adj. Close  Prediction\n",
      "Date                              \n",
      "2018-03-21      169.39         NaN\n",
      "2018-03-22      164.89         NaN\n",
      "2018-03-23      159.39         NaN\n",
      "2018-03-26      160.06         NaN\n",
      "2018-03-27      152.19         NaN\n"
     ]
    }
   ],
   "source": [
    "print(df.tail())"
   ]
  },
  {
   "cell_type": "markdown",
   "metadata": {},
   "source": [
    "### Defining Features & Labels\n",
    "Our X will be an array consisting of our Adj. Close values, and so we want to drop the Prediction column. We also want to scale our input values. Scaling our features allow us to normalize the data."
   ]
  },
  {
   "cell_type": "code",
   "execution_count": 7,
   "metadata": {},
   "outputs": [],
   "source": [
    "X = np.array(df.drop(['Prediction'], 1))\n",
    "X = preprocessing.scale(X)"
   ]
  },
  {
   "cell_type": "markdown",
   "metadata": {},
   "source": [
    "Now, if you printed the dataframe after we created the Prediction column, you saw that for the last 30 days, there were NaNs, or no label data. We’ll set a new input variable to these days and remove them from the X array."
   ]
  },
  {
   "cell_type": "code",
   "execution_count": 8,
   "metadata": {},
   "outputs": [],
   "source": [
    "X_forecast = X[-forecast_out:] # set X_forecast equal to last 30\n",
    "X = X[:-forecast_out] # remove last 30 from X"
   ]
  },
  {
   "cell_type": "markdown",
   "metadata": {},
   "source": [
    "To define our y, or output, we will set it equal to our array of the Prediction values and remove the last 30 days where we don’t have any pricing data."
   ]
  },
  {
   "cell_type": "code",
   "execution_count": 9,
   "metadata": {},
   "outputs": [],
   "source": [
    "y = np.array(df['Prediction'])\n",
    "y = y[:-forecast_out]"
   ]
  },
  {
   "cell_type": "markdown",
   "metadata": {},
   "source": [
    "### Linear Regression\n",
    "Finally, prediction time! First, we’ll want to split our testing and training data sets, and set our test_size equal to 20% of the data. The training set contains our known outputs, or prices, that our model learns on, and our test dataset is to test our model’s predictions based on what it learned from the training set."
   ]
  },
  {
   "cell_type": "code",
   "execution_count": 10,
   "metadata": {
    "jupyter": {
     "outputs_hidden": false
    }
   },
   "outputs": [],
   "source": [
    "X_train, X_test, y_train, y_test = train_test_split(X, y, test_size = 0.2)"
   ]
  },
  {
   "cell_type": "markdown",
   "metadata": {},
   "source": [
    "Now, we can initiate our Linear Regression model and fit it with training data. After training, to test the accuracy of the model, we “score” it using the testing data. We can get an r^2 (coefficient of determination) reading based on how far the predicted price was compared to the actual price in the test data set. When I ran the algorithm, I usually got a value of over 90%."
   ]
  },
  {
   "cell_type": "code",
   "execution_count": 11,
   "metadata": {
    "jupyter": {
     "outputs_hidden": false
    }
   },
   "outputs": [
    {
     "name": "stdout",
     "output_type": "stream",
     "text": [
      "confidence:  0.9774550590140216\n"
     ]
    }
   ],
   "source": [
    "# Training\n",
    "clf = LinearRegression()\n",
    "clf.fit(X_train,y_train)\n",
    "# Testing\n",
    "confidence = clf.score(X_test, y_test)\n",
    "print(\"confidence: \", confidence)"
   ]
  },
  {
   "cell_type": "markdown",
   "metadata": {},
   "source": [
    "Lastly, we can to predict our X_forecast values:"
   ]
  },
  {
   "cell_type": "code",
   "execution_count": 12,
   "metadata": {
    "jupyter": {
     "outputs_hidden": false
    }
   },
   "outputs": [
    {
     "name": "stdout",
     "output_type": "stream",
     "text": [
      "[176.65957997 183.06758243 183.5102074  180.89469619 179.5366423\n",
      " 181.44797741 182.53442053 186.86007368 188.50985767 185.01915618\n",
      " 181.86042341 179.46622469 180.15028147 183.95283238 183.32913355\n",
      " 187.28257934 185.90440612 188.81164743 188.33884348 185.44166183\n",
      " 187.76544294 187.43347421 188.67081221 176.06606012 171.62975072\n",
      " 172.87714838 168.35030206 162.81748989 163.49148701 155.57453577]\n"
     ]
    }
   ],
   "source": [
    "forecast_prediction = clf.predict(X_forecast)\n",
    "print(forecast_prediction)"
   ]
  },
  {
   "cell_type": "markdown",
   "metadata": {},
   "source": [
    "Here’s what I got for FB stock."
   ]
  },
  {
   "cell_type": "markdown",
   "metadata": {},
   "source": [
    "What’s next?\n",
    "Try and plot your data using matplotlib. Make your predictions more advanced by including more features. When completed, feel free to share your projects in the comments! I’d love to check them out :)\n",
    "\n"
   ]
  },
  {
   "cell_type": "code",
   "execution_count": null,
   "metadata": {
    "collapsed": true,
    "jupyter": {
     "outputs_hidden": true
    }
   },
   "outputs": [],
   "source": []
  }
 ],
 "metadata": {
  "kernelspec": {
   "display_name": "Python 3 (ipykernel)",
   "language": "python",
   "name": "python3"
  },
  "language_info": {
   "codemirror_mode": {
    "name": "ipython",
    "version": 3
   },
   "file_extension": ".py",
   "mimetype": "text/x-python",
   "name": "python",
   "nbconvert_exporter": "python",
   "pygments_lexer": "ipython3",
   "version": "3.10.12"
  }
 },
 "nbformat": 4,
 "nbformat_minor": 4
}
